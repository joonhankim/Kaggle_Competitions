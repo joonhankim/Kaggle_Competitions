{
 "cells": [
  {
   "cell_type": "code",
   "execution_count": 1,
   "id": "87272a9a",
   "metadata": {
    "_cell_guid": "b1076dfc-b9ad-4769-8c92-a6c4dae69d19",
    "_uuid": "8f2839f25d086af736a60e9eeb907d3b93b6e0e5",
    "execution": {
     "iopub.execute_input": "2022-06-26T12:19:53.560773Z",
     "iopub.status.busy": "2022-06-26T12:19:53.560388Z",
     "iopub.status.idle": "2022-06-26T12:19:55.003570Z",
     "shell.execute_reply": "2022-06-26T12:19:55.002366Z"
    },
    "papermill": {
     "duration": 1.452002,
     "end_time": "2022-06-26T12:19:55.006381",
     "exception": false,
     "start_time": "2022-06-26T12:19:53.554379",
     "status": "completed"
    },
    "tags": []
   },
   "outputs": [],
   "source": [
    "# This Python 3 environment comes with many helpful analytics libraries installed\n",
    "# It is defined by the kaggle/python Docker image: https://github.com/kaggle/docker-python\n",
    "# For example, here's several helpful packages to load\n",
    "\n",
    "import numpy as np # linear algebra\n",
    "import pandas as pd # data processing, CSV file I/O (e.g. pd.read_csv)\n",
    "from sklearn.model_selection import StratifiedKFold\n",
    "from sklearn.feature_extraction.text import TfidfVectorizer\n",
    "from sklearn.preprocessing import OneHotEncoder,LabelEncoder\n",
    "from scipy import sparse\n",
    "from sklearn.metrics import log_loss\n",
    "from sklearn.ensemble import RandomForestClassifier\n",
    "\n",
    "# Input data files are available in the read-only \"../input/\" directory\n",
    "# For example, running this (by clicking run or pressing Shift+Enter) will list all files under the input directory\n",
    "\n",
    "import os\n",
    "# for dirname, _, filenames in os.walk('/kaggle/input'):\n",
    "#     for filename in filenames:\n",
    "#         print(os.path.join(dirname, filename))\n",
    "\n",
    "# You can write up to 20GB to the current directory (/kaggle/working/) that gets preserved as output when you create a version using \"Save & Run All\" \n",
    "# You can also write temporary files to /kaggle/temp/, but they won't be saved outside of the current session"
   ]
  },
  {
   "cell_type": "code",
   "execution_count": 2,
   "id": "3edbd633",
   "metadata": {
    "execution": {
     "iopub.execute_input": "2022-06-26T12:19:55.015775Z",
     "iopub.status.busy": "2022-06-26T12:19:55.015395Z",
     "iopub.status.idle": "2022-06-26T12:20:21.206580Z",
     "shell.execute_reply": "2022-06-26T12:20:21.205782Z"
    },
    "papermill": {
     "duration": 26.199117,
     "end_time": "2022-06-26T12:20:21.209299",
     "exception": false,
     "start_time": "2022-06-26T12:19:55.010182",
     "status": "completed"
    },
    "tags": []
   },
   "outputs": [
    {
     "data": {
      "text/html": [
       "<div>\n",
       "<style scoped>\n",
       "    .dataframe tbody tr th:only-of-type {\n",
       "        vertical-align: middle;\n",
       "    }\n",
       "\n",
       "    .dataframe tbody tr th {\n",
       "        vertical-align: top;\n",
       "    }\n",
       "\n",
       "    .dataframe thead th {\n",
       "        text-align: right;\n",
       "    }\n",
       "</style>\n",
       "<table border=\"1\" class=\"dataframe\">\n",
       "  <thead>\n",
       "    <tr style=\"text-align: right;\">\n",
       "      <th></th>\n",
       "      <th>discourse_id</th>\n",
       "      <th>essay_id</th>\n",
       "      <th>discourse_text</th>\n",
       "      <th>discourse_type</th>\n",
       "      <th>discourse_effectiveness</th>\n",
       "      <th>text</th>\n",
       "    </tr>\n",
       "  </thead>\n",
       "  <tbody>\n",
       "    <tr>\n",
       "      <th>0</th>\n",
       "      <td>0013cc385424</td>\n",
       "      <td>007ACE74B050</td>\n",
       "      <td>Hi, i'm Isaac, i'm going to be writing about h...</td>\n",
       "      <td>Lead</td>\n",
       "      <td>Adequate</td>\n",
       "      <td>Hi, i'm Isaac, i'm going to be writing about h...</td>\n",
       "    </tr>\n",
       "    <tr>\n",
       "      <th>1</th>\n",
       "      <td>9704a709b505</td>\n",
       "      <td>007ACE74B050</td>\n",
       "      <td>On my perspective, I think that the face is a ...</td>\n",
       "      <td>Position</td>\n",
       "      <td>Adequate</td>\n",
       "      <td>Hi, i'm Isaac, i'm going to be writing about h...</td>\n",
       "    </tr>\n",
       "  </tbody>\n",
       "</table>\n",
       "</div>"
      ],
      "text/plain": [
       "   discourse_id      essay_id  \\\n",
       "0  0013cc385424  007ACE74B050   \n",
       "1  9704a709b505  007ACE74B050   \n",
       "\n",
       "                                      discourse_text discourse_type  \\\n",
       "0  Hi, i'm Isaac, i'm going to be writing about h...           Lead   \n",
       "1  On my perspective, I think that the face is a ...       Position   \n",
       "\n",
       "  discourse_effectiveness                                               text  \n",
       "0                Adequate  Hi, i'm Isaac, i'm going to be writing about h...  \n",
       "1                Adequate  Hi, i'm Isaac, i'm going to be writing about h...  "
      ]
     },
     "execution_count": 2,
     "metadata": {},
     "output_type": "execute_result"
    }
   ],
   "source": [
    "train_data = pd.read_csv('/kaggle/input/feedback-prize-effectiveness/train.csv')\n",
    "test_data = pd.read_csv('/kaggle/input/feedback-prize-effectiveness/test.csv')\n",
    "\n",
    "train_data['text'] = train_data['essay_id'].apply(lambda x: open(f'/kaggle/input/feedback-prize-effectiveness/train/{x}.txt').read())\n",
    "test_data['text'] = test_data['essay_id'].apply(lambda x: open(f'/kaggle/input/feedback-prize-effectiveness/test/{x}.txt').read())\n",
    "train_data.head(2)"
   ]
  },
  {
   "cell_type": "code",
   "execution_count": 3,
   "id": "d1868c4d",
   "metadata": {
    "execution": {
     "iopub.execute_input": "2022-06-26T12:20:21.218870Z",
     "iopub.status.busy": "2022-06-26T12:20:21.217808Z",
     "iopub.status.idle": "2022-06-26T12:20:21.222531Z",
     "shell.execute_reply": "2022-06-26T12:20:21.221816Z"
    },
    "papermill": {
     "duration": 0.011274,
     "end_time": "2022-06-26T12:20:21.224379",
     "exception": false,
     "start_time": "2022-06-26T12:20:21.213105",
     "status": "completed"
    },
    "tags": []
   },
   "outputs": [],
   "source": [
    "data_label = {\"Ineffective\":0, \"Adequate\":1,\"Effective\":2}"
   ]
  },
  {
   "cell_type": "code",
   "execution_count": 4,
   "id": "fa7182f0",
   "metadata": {
    "execution": {
     "iopub.execute_input": "2022-06-26T12:20:21.233831Z",
     "iopub.status.busy": "2022-06-26T12:20:21.233189Z",
     "iopub.status.idle": "2022-06-26T12:20:21.268823Z",
     "shell.execute_reply": "2022-06-26T12:20:21.267627Z"
    },
    "papermill": {
     "duration": 0.04288,
     "end_time": "2022-06-26T12:20:21.270992",
     "exception": false,
     "start_time": "2022-06-26T12:20:21.228112",
     "status": "completed"
    },
    "tags": []
   },
   "outputs": [
    {
     "data": {
      "text/html": [
       "<div>\n",
       "<style scoped>\n",
       "    .dataframe tbody tr th:only-of-type {\n",
       "        vertical-align: middle;\n",
       "    }\n",
       "\n",
       "    .dataframe tbody tr th {\n",
       "        vertical-align: top;\n",
       "    }\n",
       "\n",
       "    .dataframe thead th {\n",
       "        text-align: right;\n",
       "    }\n",
       "</style>\n",
       "<table border=\"1\" class=\"dataframe\">\n",
       "  <thead>\n",
       "    <tr style=\"text-align: right;\">\n",
       "      <th></th>\n",
       "      <th>discourse_id</th>\n",
       "      <th>essay_id</th>\n",
       "      <th>discourse_text</th>\n",
       "      <th>discourse_type</th>\n",
       "      <th>discourse_effectiveness</th>\n",
       "      <th>text</th>\n",
       "      <th>target</th>\n",
       "    </tr>\n",
       "  </thead>\n",
       "  <tbody>\n",
       "    <tr>\n",
       "      <th>0</th>\n",
       "      <td>0013cc385424</td>\n",
       "      <td>007ACE74B050</td>\n",
       "      <td>Hi, i'm Isaac, i'm going to be writing about h...</td>\n",
       "      <td>Lead</td>\n",
       "      <td>Adequate</td>\n",
       "      <td>Hi, i'm Isaac, i'm going to be writing about h...</td>\n",
       "      <td>1</td>\n",
       "    </tr>\n",
       "  </tbody>\n",
       "</table>\n",
       "</div>"
      ],
      "text/plain": [
       "   discourse_id      essay_id  \\\n",
       "0  0013cc385424  007ACE74B050   \n",
       "\n",
       "                                      discourse_text discourse_type  \\\n",
       "0  Hi, i'm Isaac, i'm going to be writing about h...           Lead   \n",
       "\n",
       "  discourse_effectiveness                                               text  \\\n",
       "0                Adequate  Hi, i'm Isaac, i'm going to be writing about h...   \n",
       "\n",
       "   target  \n",
       "0       1  "
      ]
     },
     "execution_count": 4,
     "metadata": {},
     "output_type": "execute_result"
    }
   ],
   "source": [
    "train_data[\"target\"] = train_data[\"discourse_effectiveness\"].map(data_label)\n",
    "train_data = train_data.reset_index(drop=True)\n",
    "train_data.head(1)"
   ]
  },
  {
   "cell_type": "code",
   "execution_count": 5,
   "id": "78e90d67",
   "metadata": {
    "execution": {
     "iopub.execute_input": "2022-06-26T12:20:21.281484Z",
     "iopub.status.busy": "2022-06-26T12:20:21.279539Z",
     "iopub.status.idle": "2022-06-26T12:20:21.286272Z",
     "shell.execute_reply": "2022-06-26T12:20:21.285177Z"
    },
    "papermill": {
     "duration": 0.01378,
     "end_time": "2022-06-26T12:20:21.288543",
     "exception": false,
     "start_time": "2022-06-26T12:20:21.274763",
     "status": "completed"
    },
    "tags": []
   },
   "outputs": [],
   "source": [
    "skfold = StratifiedKFold(n_splits=5,shuffle=True,random_state=42)"
   ]
  },
  {
   "cell_type": "code",
   "execution_count": 6,
   "id": "7ca7a94b",
   "metadata": {
    "execution": {
     "iopub.execute_input": "2022-06-26T12:20:21.297658Z",
     "iopub.status.busy": "2022-06-26T12:20:21.297296Z",
     "iopub.status.idle": "2022-06-26T12:20:21.323307Z",
     "shell.execute_reply": "2022-06-26T12:20:21.322200Z"
    },
    "papermill": {
     "duration": 0.03343,
     "end_time": "2022-06-26T12:20:21.325725",
     "exception": false,
     "start_time": "2022-06-26T12:20:21.292295",
     "status": "completed"
    },
    "tags": []
   },
   "outputs": [],
   "source": [
    "for i,(train_index, test_index) in enumerate(skfold.split(train_data, train_data[\"target\"])):\n",
    "    train_data.loc[test_index,\"fold\"] = i"
   ]
  },
  {
   "cell_type": "code",
   "execution_count": 7,
   "id": "8d1b53ea",
   "metadata": {
    "execution": {
     "iopub.execute_input": "2022-06-26T12:20:21.335311Z",
     "iopub.status.busy": "2022-06-26T12:20:21.334496Z",
     "iopub.status.idle": "2022-06-26T12:20:21.346803Z",
     "shell.execute_reply": "2022-06-26T12:20:21.345377Z"
    },
    "papermill": {
     "duration": 0.019398,
     "end_time": "2022-06-26T12:20:21.349153",
     "exception": false,
     "start_time": "2022-06-26T12:20:21.329755",
     "status": "completed"
    },
    "tags": []
   },
   "outputs": [
    {
     "name": "stdout",
     "output_type": "stream",
     "text": [
      "0.0    7353\n",
      "1.0    7353\n",
      "2.0    7353\n",
      "4.0    7353\n",
      "3.0    7353\n",
      "Name: fold, dtype: int64\n"
     ]
    }
   ],
   "source": [
    "print(train_data.fold.value_counts())"
   ]
  },
  {
   "cell_type": "code",
   "execution_count": 8,
   "id": "34b52c45",
   "metadata": {
    "execution": {
     "iopub.execute_input": "2022-06-26T12:20:21.358287Z",
     "iopub.status.busy": "2022-06-26T12:20:21.357893Z",
     "iopub.status.idle": "2022-06-26T12:20:21.362850Z",
     "shell.execute_reply": "2022-06-26T12:20:21.361629Z"
    },
    "papermill": {
     "duration": 0.01184,
     "end_time": "2022-06-26T12:20:21.364828",
     "exception": false,
     "start_time": "2022-06-26T12:20:21.352988",
     "status": "completed"
    },
    "tags": []
   },
   "outputs": [],
   "source": [
    "tf_idf = TfidfVectorizer(ngram_range=(1,3),norm='l2', smooth_idf=True)\n",
    "one_hot_encode = OneHotEncoder()\n",
    "preds = []"
   ]
  },
  {
   "cell_type": "code",
   "execution_count": 9,
   "id": "2cb26624",
   "metadata": {
    "execution": {
     "iopub.execute_input": "2022-06-26T12:20:21.374803Z",
     "iopub.status.busy": "2022-06-26T12:20:21.373783Z",
     "iopub.status.idle": "2022-06-26T12:45:53.306920Z",
     "shell.execute_reply": "2022-06-26T12:45:53.305433Z"
    },
    "papermill": {
     "duration": 1531.945852,
     "end_time": "2022-06-26T12:45:53.314401",
     "exception": false,
     "start_time": "2022-06-26T12:20:21.368549",
     "status": "completed"
    },
    "tags": []
   },
   "outputs": [
    {
     "name": "stdout",
     "output_type": "stream",
     "text": [
      "Fold : 0 EV score: 2.912854014185138\n",
      "Fold : 1 EV score: 2.730143671678094\n",
      "Fold : 2 EV score: 3.0301836537658384\n",
      "Fold : 3 EV score: 2.649121652420133\n",
      "Fold : 4 EV score: 2.657398343403062\n"
     ]
    }
   ],
   "source": [
    "for fold in range(5):\n",
    "    train_data_ = train_data[train_data['fold']!=fold]\n",
    "    eval_data_ = train_data[train_data['fold']==fold]\n",
    "    \n",
    "    train_discourse_tfidf = tf_idf.fit_transform(train_data_[\"discourse_text\"])\n",
    "    eval_discourse_tfidf = tf_idf.transform(eval_data_[\"discourse_text\"])\n",
    "    test_discourse_tfidf = tf_idf.transform(test_data[\"discourse_text\"])\n",
    "    \n",
    "    train_text_tfidf = tf_idf.fit_transform(train_data_[\"text\"])\n",
    "    eval_text_tfidf = tf_idf.transform(eval_data_[\"text\"])\n",
    "    test_text_tfidf = tf_idf.transform(test_data[\"text\"])\n",
    "    \n",
    "    one_hot_encoded_train_data =  sparse.csr_matrix(one_hot_encode.fit_transform(train_data_[\"discourse_type\"].values.reshape(-1,1)))\n",
    "    one_hot_encoded_eval_data =  sparse.csr_matrix(one_hot_encode.transform(eval_data_[\"discourse_type\"].values.reshape(-1,1)))\n",
    "    one_hot_encoded_test_data =  sparse.csr_matrix(one_hot_encode.transform(test_data[\"discourse_type\"].values.reshape(-1,1)))\n",
    "    \n",
    "    train_tfidf = sparse.hstack((one_hot_encoded_train_data,train_discourse_tfidf,train_text_tfidf))\n",
    "    eval_tfidf = sparse.hstack((one_hot_encoded_eval_data,eval_discourse_tfidf,eval_text_tfidf))\n",
    "    test_tfidf = sparse.hstack((one_hot_encoded_test_data,test_discourse_tfidf,test_text_tfidf))\n",
    "    \n",
    "    rf_classifier = RandomForestClassifier(n_estimators = 10, criterion = 'entropy', random_state = 42)\n",
    "    rf_classifier.fit(train_tfidf, train_data_[\"target\"].values)\n",
    "    \n",
    "    eval_preds = rf_classifier.predict_proba(eval_tfidf)\n",
    "    eval_loss = log_loss(eval_data_[\"target\"].values,eval_preds)\n",
    "    print(\"Fold : {} EV score: {}\".format(fold,eval_loss))\n",
    "    \n",
    "    preds.append(rf_classifier.predict_proba(test_tfidf))"
   ]
  },
  {
   "cell_type": "code",
   "execution_count": 10,
   "id": "3b8eefa4",
   "metadata": {
    "execution": {
     "iopub.execute_input": "2022-06-26T12:45:53.325237Z",
     "iopub.status.busy": "2022-06-26T12:45:53.324824Z",
     "iopub.status.idle": "2022-06-26T12:45:53.340869Z",
     "shell.execute_reply": "2022-06-26T12:45:53.339786Z"
    },
    "papermill": {
     "duration": 0.024094,
     "end_time": "2022-06-26T12:45:53.343337",
     "exception": false,
     "start_time": "2022-06-26T12:45:53.319243",
     "status": "completed"
    },
    "tags": []
   },
   "outputs": [],
   "source": [
    "submission_data = pd.read_csv(\"../input/feedback-prize-effectiveness/sample_submission.csv\")"
   ]
  },
  {
   "cell_type": "code",
   "execution_count": 11,
   "id": "a3ad3552",
   "metadata": {
    "execution": {
     "iopub.execute_input": "2022-06-26T12:45:53.353010Z",
     "iopub.status.busy": "2022-06-26T12:45:53.352668Z",
     "iopub.status.idle": "2022-06-26T12:45:53.357261Z",
     "shell.execute_reply": "2022-06-26T12:45:53.356176Z"
    },
    "papermill": {
     "duration": 0.01175,
     "end_time": "2022-06-26T12:45:53.359194",
     "exception": false,
     "start_time": "2022-06-26T12:45:53.347444",
     "status": "completed"
    },
    "tags": []
   },
   "outputs": [],
   "source": [
    "final_result = np.array(preds).mean(0)"
   ]
  },
  {
   "cell_type": "code",
   "execution_count": 12,
   "id": "a4fb79ba",
   "metadata": {
    "execution": {
     "iopub.execute_input": "2022-06-26T12:45:53.368941Z",
     "iopub.status.busy": "2022-06-26T12:45:53.368331Z",
     "iopub.status.idle": "2022-06-26T12:45:53.380614Z",
     "shell.execute_reply": "2022-06-26T12:45:53.379916Z"
    },
    "papermill": {
     "duration": 0.01922,
     "end_time": "2022-06-26T12:45:53.382453",
     "exception": false,
     "start_time": "2022-06-26T12:45:53.363233",
     "status": "completed"
    },
    "tags": []
   },
   "outputs": [
    {
     "data": {
      "text/html": [
       "<div>\n",
       "<style scoped>\n",
       "    .dataframe tbody tr th:only-of-type {\n",
       "        vertical-align: middle;\n",
       "    }\n",
       "\n",
       "    .dataframe tbody tr th {\n",
       "        vertical-align: top;\n",
       "    }\n",
       "\n",
       "    .dataframe thead th {\n",
       "        text-align: right;\n",
       "    }\n",
       "</style>\n",
       "<table border=\"1\" class=\"dataframe\">\n",
       "  <thead>\n",
       "    <tr style=\"text-align: right;\">\n",
       "      <th></th>\n",
       "      <th>discourse_id</th>\n",
       "      <th>Ineffective</th>\n",
       "      <th>Adequate</th>\n",
       "      <th>Effective</th>\n",
       "    </tr>\n",
       "  </thead>\n",
       "  <tbody>\n",
       "    <tr>\n",
       "      <th>0</th>\n",
       "      <td>a261b6e14276</td>\n",
       "      <td>0.02</td>\n",
       "      <td>0.52</td>\n",
       "      <td>0.46</td>\n",
       "    </tr>\n",
       "    <tr>\n",
       "      <th>1</th>\n",
       "      <td>5a88900e7dc1</td>\n",
       "      <td>0.02</td>\n",
       "      <td>0.50</td>\n",
       "      <td>0.48</td>\n",
       "    </tr>\n",
       "  </tbody>\n",
       "</table>\n",
       "</div>"
      ],
      "text/plain": [
       "   discourse_id  Ineffective  Adequate  Effective\n",
       "0  a261b6e14276         0.02      0.52       0.46\n",
       "1  5a88900e7dc1         0.02      0.50       0.48"
      ]
     },
     "execution_count": 12,
     "metadata": {},
     "output_type": "execute_result"
    }
   ],
   "source": [
    "submission_data.loc[:,\"Ineffective\"] = final_result[:,0]\n",
    "submission_data.loc[:,\"Adequate\"] = final_result[:,1]\n",
    "submission_data.loc[:,\"Effective\"] = final_result[:,2]\n",
    "submission_data.head(2)"
   ]
  },
  {
   "cell_type": "code",
   "execution_count": 13,
   "id": "754d1dbe",
   "metadata": {
    "execution": {
     "iopub.execute_input": "2022-06-26T12:45:53.392025Z",
     "iopub.status.busy": "2022-06-26T12:45:53.391653Z",
     "iopub.status.idle": "2022-06-26T12:45:53.399279Z",
     "shell.execute_reply": "2022-06-26T12:45:53.398461Z"
    },
    "papermill": {
     "duration": 0.014676,
     "end_time": "2022-06-26T12:45:53.401235",
     "exception": false,
     "start_time": "2022-06-26T12:45:53.386559",
     "status": "completed"
    },
    "tags": []
   },
   "outputs": [],
   "source": [
    "submission_data.to_csv('submission.csv',index=None)"
   ]
  },
  {
   "cell_type": "code",
   "execution_count": null,
   "id": "34557b71",
   "metadata": {
    "papermill": {
     "duration": 0.003801,
     "end_time": "2022-06-26T12:45:53.409261",
     "exception": false,
     "start_time": "2022-06-26T12:45:53.405460",
     "status": "completed"
    },
    "tags": []
   },
   "outputs": [],
   "source": []
  }
 ],
 "metadata": {
  "kernelspec": {
   "display_name": "Python 3",
   "language": "python",
   "name": "python3"
  },
  "language_info": {
   "codemirror_mode": {
    "name": "ipython",
    "version": 3
   },
   "file_extension": ".py",
   "mimetype": "text/x-python",
   "name": "python",
   "nbconvert_exporter": "python",
   "pygments_lexer": "ipython3",
   "version": "3.7.12"
  },
  "papermill": {
   "default_parameters": {},
   "duration": 1569.741129,
   "end_time": "2022-06-26T12:45:54.339583",
   "environment_variables": {},
   "exception": null,
   "input_path": "__notebook__.ipynb",
   "output_path": "__notebook__.ipynb",
   "parameters": {},
   "start_time": "2022-06-26T12:19:44.598454",
   "version": "2.3.4"
  }
 },
 "nbformat": 4,
 "nbformat_minor": 5
}
